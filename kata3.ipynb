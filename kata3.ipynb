{
 "cells": [
  {
   "cell_type": "code",
   "execution_count": 5,
   "metadata": {},
   "outputs": [
    {
     "name": "stdout",
     "output_type": "stream",
     "text": [
      "Se acerca un asteroide\n"
     ]
    }
   ],
   "source": [
    "asteroide=49\n",
    "\n",
    "if asteroide>25:\n",
    "    print(\"Se acerca un asteroide\")\n",
    "else:\n",
    "    print(\"Todo bien\")"
   ]
  },
  {
   "cell_type": "code",
   "execution_count": 9,
   "metadata": {},
   "outputs": [
    {
     "name": "stdout",
     "output_type": "stream",
     "text": [
      "Todo bien\n"
     ]
    }
   ],
   "source": [
    "asteroide=19\n",
    "if asteroide > 20:\n",
    "    print('Deben buscar un asteroide')\n",
    "elif asteroide == 20:\n",
    "    print('Deben buscar un asteroide')\n",
    "else:\n",
    "    print('Todo bien')"
   ]
  },
  {
   "cell_type": "code",
   "execution_count": 14,
   "metadata": {},
   "outputs": [
    {
     "name": "stdout",
     "output_type": "stream",
     "text": [
      "Deben buscar un asteroide\n"
     ]
    }
   ],
   "source": [
    "velocidad=25\n",
    "tamanio=50\n",
    "\n",
    "if tamanio > 25 and velocidad > 25:\n",
    "    print(\"asteroide causara mucho daño\")\n",
    "elif velocidad >= 20:\n",
    "    print(\"rayo de luz\") \n",
    "elif tamanio<25:\n",
    "    print('Todo bien')\n",
    "else:\n",
    "    print('Todo bien')\n"
   ]
  }
 ],
 "metadata": {
  "interpreter": {
   "hash": "63fd5069d213b44bf678585dea6b12cceca9941eaf7f819626cde1f2670de90d"
  },
  "kernelspec": {
   "display_name": "Python 3.9.1 64-bit",
   "language": "python",
   "name": "python3"
  },
  "language_info": {
   "codemirror_mode": {
    "name": "ipython",
    "version": 3
   },
   "file_extension": ".py",
   "mimetype": "text/x-python",
   "name": "python",
   "nbconvert_exporter": "python",
   "pygments_lexer": "ipython3",
   "version": "3.9.1"
  },
  "orig_nbformat": 4
 },
 "nbformat": 4,
 "nbformat_minor": 2
}
