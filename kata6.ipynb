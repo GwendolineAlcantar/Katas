{
 "cells": [
  {
   "cell_type": "code",
   "execution_count": 8,
   "metadata": {},
   "outputs": [
    {
     "name": "stdout",
     "output_type": "stream",
     "text": [
      "['Mercurio', 'Venus', 'Tierra', 'Marte', 'Jupiter', 'Saturno', 'Neptuno']\n"
     ]
    }
   ],
   "source": [
    "planets=[\"Mercurio\",\"Venus\",\"Tierra\",\"Marte\",\"Jupiter\",\"Saturno\",\"Neptuno\"]\n",
    "print(planets)"
   ]
  },
  {
   "cell_type": "code",
   "execution_count": 9,
   "metadata": {},
   "outputs": [
    {
     "name": "stdout",
     "output_type": "stream",
     "text": [
      "Plúton\n"
     ]
    }
   ],
   "source": [
    "planets.append(\"Plúton\")\n",
    "print(planets[-1])"
   ]
  },
  {
   "cell_type": "code",
   "execution_count": 19,
   "metadata": {},
   "outputs": [
    {
     "name": "stdout",
     "output_type": "stream",
     "text": [
      "los planetas mas cercanos al sol son \n",
      "['Mercurio', 'Venus', 'Tierra', 'Marte', 'Jupiter']\n",
      "los planetas mas alejados al sol son \n",
      "['Neptuno']\n"
     ]
    }
   ],
   "source": [
    "planeta=input(\"nombre planeta comenzando con mayuscula\")\n",
    "\n",
    "index=planets.index(planeta)\n",
    "\n",
    "# print(index)\n",
    "\n",
    "# planets[0:index]\n",
    "\n",
    "print(\"los planetas mas cercanos al sol son \")\n",
    "print(planets[0:index])\n",
    "\n",
    "print(\"los planetas mas alejados al sol son \")\n",
    "print(planets[index+1:-1])\n",
    "\n"
   ]
  }
 ],
 "metadata": {
  "interpreter": {
   "hash": "63fd5069d213b44bf678585dea6b12cceca9941eaf7f819626cde1f2670de90d"
  },
  "kernelspec": {
   "display_name": "Python 3.9.1 64-bit",
   "language": "python",
   "name": "python3"
  },
  "language_info": {
   "codemirror_mode": {
    "name": "ipython",
    "version": 3
   },
   "file_extension": ".py",
   "mimetype": "text/x-python",
   "name": "python",
   "nbconvert_exporter": "python",
   "pygments_lexer": "ipython3",
   "version": "3.9.1"
  },
  "orig_nbformat": 4
 },
 "nbformat": 4,
 "nbformat_minor": 2
}
