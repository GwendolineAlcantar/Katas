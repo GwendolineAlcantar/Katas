{
 "cells": [
  {
   "cell_type": "code",
   "execution_count": 4,
   "metadata": {},
   "outputs": [
    {
     "name": "stdout",
     "output_type": "stream",
     "text": [
      "20.0\n",
      "20.0\n"
     ]
    }
   ],
   "source": [
    "promedio=0\n",
    "def combustible (combustible1, combustible2, combustible3):\n",
    "    promedio=(combustible1+combustible2+combustible3)/3\n",
    "    return promedio\n",
    "    \n",
    "print(combustible(10,20,30))\n",
    "\n",
    "def promedio(valores):\n",
    "    total=(sum(valores))/len(valores)\n",
    "    return total\n",
    "\n",
    "def combustible(combustible1, combustible2, combustible3):\n",
    "    return promedio([combustible1, combustible2, combustible3])\n",
    "\n",
    "print(combustible(10,20,30))\n"
   ]
  },
  {
   "cell_type": "code",
   "execution_count": 20,
   "metadata": {},
   "outputs": [
    {
     "name": "stdout",
     "output_type": "stream",
     "text": [
      "tiempo de viaje 70\n",
      "destino marte\n",
      "tanque 5000\n",
      "\n",
      "\n",
      "destino marte\n",
      "tiempo 70\n",
      "tanque 5000\n",
      "\n",
      "\n",
      "destino marte\n",
      "tiempo 70\n",
      "tanque 5000\n",
      "tanque externo 1500\n",
      "tanque interno 3500\n"
     ]
    }
   ],
   "source": [
    "def informe(hora,tiempo,destino,combustible_externo, combustible_interno):\n",
    "    \n",
    "    return \"tiempo de viaje \"+str(hora+tiempo)+\"\\ndestino \"+destino+\"\\ntanque \"+str(combustible_externo+combustible_interno)\n",
    "\n",
    "print(informe(20,50,\"marte\",1500, 3500))\n",
    "print(\"\\n\")    \n",
    "    \n",
    "def informe(destino,*minutos,**tanque):\n",
    "    total_m=sum(minutos)\n",
    "    total_t=sum(tanque.values())\n",
    "    return \"destino \"+destino+\"\\ntiempo \"+str(total_m)+\"\\ntanque \"+str(total_t)\n",
    "\n",
    "print(informe(\"marte\",20,50,externo=1500, interno=3500))\n",
    "print(\"\\n\")    \n",
    "\n",
    "\n",
    "def informe(destino,*minutos,**tanque):\n",
    "    total_m=sum(minutos)\n",
    "    total_t=sum(tanque.values())\n",
    "    reporte= \"destino \"+destino+\"\\ntiempo \"+str(total_m)+\"\\ntanque \"+str(total_t)\n",
    "    \n",
    "    for nombre_tanque,galon in tanque.items():\n",
    "        reporte+=\"\\ntanque \"+str(nombre_tanque)+\" \"+str(galon)\n",
    "        \n",
    "    return reporte\n",
    "\n",
    "print(informe(\"marte\",20,50,externo=1500, interno=3500))\n"
   ]
  }
 ],
 "metadata": {
  "interpreter": {
   "hash": "63fd5069d213b44bf678585dea6b12cceca9941eaf7f819626cde1f2670de90d"
  },
  "kernelspec": {
   "display_name": "Python 3.9.1 64-bit",
   "language": "python",
   "name": "python3"
  },
  "language_info": {
   "codemirror_mode": {
    "name": "ipython",
    "version": 3
   },
   "file_extension": ".py",
   "mimetype": "text/x-python",
   "name": "python",
   "nbconvert_exporter": "python",
   "pygments_lexer": "ipython3",
   "version": "3.9.1"
  },
  "orig_nbformat": 4
 },
 "nbformat": 4,
 "nbformat_minor": 2
}
